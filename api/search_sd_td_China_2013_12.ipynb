{
 "metadata": {
  "name": ""
 },
 "nbformat": 3,
 "nbformat_minor": 0,
 "worksheets": [
  {
   "cells": [
    {
     "cell_type": "code",
     "collapsed": false,
     "input": [
      "import pandas;\n"
     ],
     "language": "python",
     "metadata": {},
     "outputs": [],
     "prompt_number": 6
    },
    {
     "cell_type": "code",
     "collapsed": false,
     "input": [
      "myperfjson = {\"ss_trip_durations\":[{\"id\":\"CN_m_2013-12_*-*\",\"market\":\"CN\",\"ptype\":\"m\",\"period\":\"2013-12\",\"onds\":[{\"origin\":\"*\",\"destination\":\"*\"}],\"trip_duration\":[140,172,431,683,597,685,730,1115,688,591,542,423,371,348,495,379,271,227,204,173,162,201,141,92,106,73,87,94,143,106,105,1950],\"nb_req\":12540}]}\n"
     ],
     "language": "python",
     "metadata": {},
     "outputs": [],
     "prompt_number": 2
    },
    {
     "cell_type": "code",
     "collapsed": false,
     "input": [
      "myperfjson\n"
     ],
     "language": "python",
     "metadata": {},
     "outputs": [
      {
       "metadata": {},
       "output_type": "pyout",
       "prompt_number": 3,
       "text": [
        "{'ss_trip_durations': [{'id': 'CN_m_2013-12_*-*',\n",
        "   'market': 'CN',\n",
        "   'nb_req': 12540,\n",
        "   'onds': [{'destination': '*', 'origin': '*'}],\n",
        "   'period': '2013-12',\n",
        "   'ptype': 'm',\n",
        "   'trip_duration': [140,\n",
        "    172,\n",
        "    431,\n",
        "    683,\n",
        "    597,\n",
        "    685,\n",
        "    730,\n",
        "    1115,\n",
        "    688,\n",
        "    591,\n",
        "    542,\n",
        "    423,\n",
        "    371,\n",
        "    348,\n",
        "    495,\n",
        "    379,\n",
        "    271,\n",
        "    227,\n",
        "    204,\n",
        "    173,\n",
        "    162,\n",
        "    201,\n",
        "    141,\n",
        "    92,\n",
        "    106,\n",
        "    73,\n",
        "    87,\n",
        "    94,\n",
        "    143,\n",
        "    106,\n",
        "    105,\n",
        "    1950]}]}"
       ]
      }
     ],
     "prompt_number": 3
    },
    {
     "cell_type": "code",
     "collapsed": false,
     "input": [
      "points = myperfjson['ss_trip_durations'][0]['trip_duration']"
     ],
     "language": "python",
     "metadata": {},
     "outputs": [],
     "prompt_number": 4
    },
    {
     "cell_type": "code",
     "collapsed": false,
     "input": [
      "for point in points:\n",
      "    print point\n"
     ],
     "language": "python",
     "metadata": {},
     "outputs": [
      {
       "output_type": "stream",
       "stream": "stdout",
       "text": [
        "140\n",
        "172\n",
        "431\n",
        "683\n",
        "597\n",
        "685\n",
        "730\n",
        "1115\n",
        "688\n",
        "591\n",
        "542\n",
        "423\n",
        "371\n",
        "348\n",
        "495\n",
        "379\n",
        "271\n",
        "227\n",
        "204\n",
        "173\n",
        "162\n",
        "201\n",
        "141\n",
        "92\n",
        "106\n",
        "73\n",
        "87\n",
        "94\n",
        "143\n",
        "106\n",
        "105\n",
        "1950\n"
       ]
      }
     ],
     "prompt_number": 5
    },
    {
     "cell_type": "code",
     "collapsed": false,
     "input": [],
     "language": "python",
     "metadata": {},
     "outputs": []
    }
   ],
   "metadata": {}
  }
 ]
}