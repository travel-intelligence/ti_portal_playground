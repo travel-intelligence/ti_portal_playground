{
 "metadata": {
  "name": "search_sp_ic_2012_01"
 },
 "nbformat": 3,
 "nbformat_minor": 0,
 "worksheets": [
  {
   "cells": [
    {
     "cell_type": "code",
     "collapsed": false,
     "input": [
      "import json;"
     ],
     "language": "python",
     "metadata": {},
     "outputs": [],
     "prompt_number": 1
    },
    {
     "cell_type": "code",
     "collapsed": false,
     "input": [
      "myperfjson = {\"search_by_search_period\":[{\"id\":\"FI_m_2012-01_*-*\",\"market\":\"FI\",\"ptype\":\"m\",\"period\":\"2012-01\",\"onds\":[{\"origin\":\"*\",\"destination\":\"*\"}],\"nb_req\":645216,\"top_onds\":[[\"HEL-BKK\",15178,0],[\"HEL-BCN\",13214,0],[\"HEL-LON\",13117,0],[\"HEL-AGP\",13007,0],[\"HEL-PAR\",12479,0],[\"HEL-NYC\",11604,0],[\"HEL-ROM\",10374,0],[\"HEL-PRG\",8911,0],[\"HEL-BER\",8607,0],[\"HEL-AMS\",5924,0],[\"HEL-LIS\",5873,0],[\"HEL-MIA\",5539,0],[\"HEL-BUD\",5238,0],[\"HEL-DXB\",4542,0],[\"HEL-KTT\",4519,0],[\"HEL-MUC\",4261,0],[\"HEL-CPH\",4082,0],[\"HEL-NCE\",3763,0],[\"HEL-STO\",3578,0],[\"HEL-MIL\",3574,0],[\"HEL-HKT\",3443,0],[\"HEL-VIE\",3288,0],[\"HEL-LPA\",3216,0],[\"HEL-TCI\",3195,0],[\"OUL-HEL\",3118,0],[\"HEL-MAD\",3073,0],[\"HEL-PMI\",2874,0],[\"FRA-NYC\",2769,0],[\"HEL-IST\",2764,0],[\"HEL-WAW\",2475,0],[\"HEL-LAX\",2386,0],[\"HEL-ALC\",2341,0],[\"FRA-BKK\",2335,0],[\"HEL-OUL\",2182,0],[\"HEL-FRA\",2148,0],[\"HEL-ATH\",1969,0],[\"HEL-SIN\",1937,0],[\"HEL-DUB\",1927,0],[\"HEL-ZRH\",1901,0],[\"HEL-PRN\",1880,0],[\"HEL-BRU\",1834,0],[\"HEL-KAO\",1763,0],[\"HEL-TYO\",1753,0],[\"HEL-RIX\",1743,0],[\"HEL-REK\",1705,0],[\"HEL-VCE\",1642,0],[\"HEL-RVN\",1639,0],[\"HEL-DUS\",1599,0],[\"HEL-DBV\",1591,0],[\"HEL-FNC\",1566,0]],\"top_destinations\":[[\"NYC\",26513,0],[\"BKK\",24516,0],[\"LON\",23617,0],[\"BCN\",19175,0],[\"PAR\",17660,0],[\"AGP\",16735,0],[\"HEL\",16516,0],[\"BER\",15126,0],[\"ROM\",14737,0],[\"PRG\",11082,0],[\"MUC\",8963,0],[\"AMS\",8880,0],[\"PMI\",8854,0],[\"MIA\",8704,0],[\"LIS\",8506,0],[\"IST\",8479,0],[\"BUD\",7612,0],[\"STO\",7229,0],[\"VIE\",6999,0],[\"MIL\",6905,0],[\"FRA\",6737,0],[\"CPH\",6496,0],[\"DXB\",6488,0],[\"TCI\",6337,0],[\"KTT\",5976,0],[\"MAD\",5410,0],[\"LPA\",5375,0],[\"HKT\",5139,0],[\"NCE\",5005,0],[\"HAM\",4871,0],[\"DUS\",4731,0],[\"LAX\",4662,0],[\"AYT\",4228,0],[\"ZRH\",4173,0],[\"ALC\",4123,0],[\"DUB\",4066,0],[\"RIX\",3925,0],[\"BRU\",3644,0],[\"WAW\",3572,0],[\"ATH\",3529,0],[\"SIN\",3251,0],[\"VCE\",3039,0],[\"REK\",3011,0],[\"OUL\",2925,0],[\"TLV\",2870,0],[\"DPS\",2838,0],[\"PRN\",2728,0],[\"SFO\",2665,0],[\"TYO\",2538,0],[\"OSL\",2464,0]],\"advance_purchase\":[42184,42987,41093,36707,36694,32424,32025,27388,25190,24709,24498,22838,21435,18071,14146,13202,12864,12223,12549,12460,11292,11717,11267,10386,9470,8807,8358,7168,6532,5715,48801]}]}\n",
      "                                                                                                                                                                                                                                                                                                                                                                                                                                                                                                                                                                                                                                                                                                                                                                                                                                                                                                                                                                                                                                                                                                                                                                                                                                                                                                                                                                                                                                                                                                                                                                                                                                                                                                                                                                                                                                                                                                                                                                                                                                                                                                                                                                                                                                                                                                                                                                                                                                                                                                                                                                                                                                                                                                                                                                                                                                                                                                                                                                                                                                                                                                                                                                                                                                                                                                                                                                                                                                                                                                                                                                                                                                                                                                                                                                                                                                                                                                                                                                                                                                                                                                                                                                                                                                                                                                                                                                                                                                                                                                                                                                                                                                                                                                                                                                                                                                                                                                                                                                                                                                                                                                                                                "
     ],
     "language": "python",
     "metadata": {},
     "outputs": [],
     "prompt_number": 1
    },
    {
     "cell_type": "code",
     "collapsed": false,
     "input": [
      "onds = myperfjson['search_by_search_period'][0]['top_onds'][:10]"
     ],
     "language": "python",
     "metadata": {},
     "outputs": [],
     "prompt_number": 4
    },
    {
     "cell_type": "code",
     "collapsed": false,
     "input": [
      "print \"O&D, Searches for Year N, Year Searches for N-1\"\n",
      "for ond in onds:\n",
      "    ondLabel = ond[0]\n",
      "    nbSearchesYN = ond[1]\n",
      "    nbSearchesYNm1 = ond[2]\n",
      "    print ondLabel, \",\", nbSearchesYN, \",\", nbSearchesYNm1\n"
     ],
     "language": "python",
     "metadata": {},
     "outputs": [
      {
       "output_type": "stream",
       "stream": "stdout",
       "text": [
        "O&D, Searches for Year N, Year Searches for N-1\n",
        "HEL-BKK , 15178 , 0\n",
        "HEL-BCN , 13214 , 0\n",
        "HEL-LON , 13117 , 0\n",
        "HEL-AGP , 13007 , 0\n",
        "HEL-PAR , 12479 , 0\n",
        "HEL-NYC , 11604 , 0\n",
        "HEL-ROM , 10374 , 0\n",
        "HEL-PRG , 8911 , 0\n",
        "HEL-BER , 8607 , 0\n",
        "HEL-AMS , 5924 , 0\n"
       ]
      }
     ],
     "prompt_number": 5
    },
    {
     "cell_type": "code",
     "collapsed": false,
     "input": [],
     "language": "python",
     "metadata": {},
     "outputs": []
    }
   ],
   "metadata": {}
  }
 ]
}