{
 "metadata": {
  "name": ""
 },
 "nbformat": 3,
 "nbformat_minor": 0,
 "worksheets": [
  {
   "cells": [
    {
     "cell_type": "code",
     "collapsed": false,
     "input": [
      "import json;"
     ],
     "language": "python",
     "metadata": {},
     "outputs": []
    },
    {
     "cell_type": "code",
     "collapsed": false,
     "input": [
      "myperfjson = {\"search_by_search_period\":[{\"id\":\"ES_m_2013-11_*-*\",\"market\":\"ES\",\"ptype\":\"m\",\"period\":\"2013-11\",\"onds\":[{\"origin\":\"*\",\"destination\":\"*\"}],\"nb_req\":3029216,\"top_onds\":[[\"MAD-NYC\",52856,37529],[\"MAD-LON\",47469,42960],[\"MAD-PAR\",41753,31274],[\"MAD-ROM\",27450,21822],[\"BCN-LON\",26189,24079],[\"BCN-NYC\",25771,15807],[\"MAD-LIM\",25586,19891],[\"BCN-MAD\",24097,31253],[\"MAD-BCN\",22610,23338],[\"MAD-TCI\",21891,25339],[\"BCN-PAR\",21660,20440],[\"MAD-BUE\",19596,19757],[\"MAD-AMS\",18987,15807],[\"MAD-BKK\",17414,8076],[\"MAD-BRU\",15388,11518],[\"MAD-MIA\",15323,9986],[\"MAD-BER\",14782,12062],[\"BCN-ROM\",13912,9942],[\"MAD-LPA\",13782,24452],[\"MAD-PRG\",12660,9574],[\"AGP-LON\",12313,8810],[\"MAD-LIS\",12248,10911],[\"MAD-RAK\",11549,9902],[\"BCN-BKK\",11537,4800],[\"BCN-AMS\",11216,8506],[\"MAD-MIL\",11101,15655],[\"MAD-SCL\",11097,7396],[\"MAD-BOG\",11044,10638],[\"BCN-BUE\",10964,9289],[\"BCN-TCI\",10747,14397],[\"PMI-MAD\",10298,12884],[\"MAD-IST\",10179,8289],[\"BCN-BER\",10136,7605],[\"MAD-MEX\",10100,9732],[\"MAD-SDQ\",10074,7881],[\"MAD-HAV\",9575,7268],[\"MAD-BUH\",9287,10401],[\"MAD-SAO\",9135,5891],[\"TCI-MAD\",9073,10793],[\"MAD-GYE\",9057,7994],[\"MAD-UIO\",8992,8875],[\"MAD-MUC\",8934,6407],[\"MAD-PMI\",8824,9043],[\"MAD-FRA\",8676,6214],[\"LPA-MAD\",8562,10105],[\"MAD-ACE\",8445,14109],[\"PMI-BCN\",8184,8730],[\"MAD-GVA\",8177,7695],[\"BCN-LIS\",8151,5851],[\"BCN-LIM\",8053,6723]],\"top_destinations\":[[\"MAD\",188864,252355],[\"LON\",154681,147035],[\"BCN\",120335,164889],[\"PAR\",116587,109022],[\"NYC\",112701,83693],[\"ROM\",70159,59600],[\"TCI\",65152,77801],[\"BUE\",51207,40724],[\"AMS\",49773,43359],[\"LIM\",46726,35271],[\"BER\",43937,42968],[\"BKK\",42258,44778],[\"LPA\",39945,61711],[\"PMI\",39595,51781],[\"BRU\",39062,32355],[\"LIS\",38699,33764],[\"MIA\",38274,30911],[\"PRG\",33342,33655],[\"AGP\",33196,38722],[\"IST\",33005,32629],[\"MIL\",31070,40890],[\"SVQ\",30040,40858],[\"RAK\",28155,24171],[\"BOG\",26082,21440],[\"BIO\",24748,31214],[\"MEX\",24632,20755],[\"MUC\",24602,23204],[\"ACE\",24245,38367],[\"SCL\",24086,16122],[\"VLC\",22966,29212],[\"FRA\",22791,23295],[\"HAV\",22055,17249],[\"VIE\",21270,22733],[\"LAX\",20410,14833],[\"SAO\",20354,18090],[\"SDQ\",19525,15096],[\"GVA\",18986,16506],[\"GYE\",18559,16320],[\"DXB\",18458,15736],[\"BUH\",17991,20411],[\"ALC\",17837,22028],[\"OPO\",17826,15967],[\"DUB\",17346,21523],[\"VCE\",16976,19267],[\"SCQ\",16727,23701],[\"UIO\",16597,15117],[\"BUD\",16568,19893],[\"FUE\",15722,28686],[\"IBZ\",15714,22000],[\"MOW\",15000,12626]],\"advance_purchase\":[329827,330277,272260,259915,280484,224681,203467,153601,95243,74509,64918,57630,52593,49166,41609,37413,32747,26855,24415,30417,33218,32892,32584,24789,17096,14451,11450,11069,11455,12794,185376]}]}\n",
      "                                                                                                                                                                                                                                                                                                                                                                                                                                                                                                                                                                                                                                                                                                                                                                                                                                                                                                                                                                                                                                                                                                                                                                                                                                                                                                                                                                                                                                                                                                                                                                                                                                                                                                                                                                                                                                                                                                                                                                                                                                                                                                                                                                                                                                                                                                                                                                                                                                                                                                                                                                                                                                                                                                                                                                                                                                                                                                                                                                                                                                                                                                                                                                                                                                                                                                                                                                                                                                                                                                                                                                                                                                                                                                                                                                                                                                                                                                                                                                                                                                                                                                                                                                                                                                                                                                                                                                                                                                                                                                                                                                                                                                                                                                                                                                                                                                                                                                                                                                                                                                                                                                                                                "
     ],
     "language": "python",
     "metadata": {},
     "outputs": [],
     "prompt_number": 1
    },
    {
     "cell_type": "code",
     "collapsed": false,
     "input": [
      "onds = myperfjson['search_by_search_period'][0]['top_onds']"
     ],
     "language": "python",
     "metadata": {},
     "outputs": [],
     "prompt_number": 5
    },
    {
     "cell_type": "code",
     "collapsed": false,
     "input": [
      "for point in onds:\n",
      "    ondLabel = point[0]\n",
      "    nbSearches = point[1]\n",
      "    print ondLabel, \",\", nbSearches\n"
     ],
     "language": "python",
     "metadata": {},
     "outputs": [
      {
       "output_type": "stream",
       "stream": "stdout",
       "text": [
        "MAD-NYC , 52856\n",
        "MAD-LON , 47469\n",
        "MAD-PAR , 41753\n",
        "MAD-ROM , 27450\n",
        "BCN-LON , 26189\n",
        "BCN-NYC , 25771\n",
        "MAD-LIM , 25586\n",
        "BCN-MAD , 24097\n",
        "MAD-BCN , 22610\n",
        "MAD-TCI , 21891\n",
        "BCN-PAR , 21660\n",
        "MAD-BUE , 19596\n",
        "MAD-AMS , 18987\n",
        "MAD-BKK , 17414\n",
        "MAD-BRU , 15388\n",
        "MAD-MIA , 15323\n",
        "MAD-BER , 14782\n",
        "BCN-ROM , 13912\n",
        "MAD-LPA , 13782\n",
        "MAD-PRG , 12660\n",
        "AGP-LON , 12313\n",
        "MAD-LIS , 12248\n",
        "MAD-RAK , 11549\n",
        "BCN-BKK , 11537\n",
        "BCN-AMS , 11216\n",
        "MAD-MIL , 11101\n",
        "MAD-SCL , 11097\n",
        "MAD-BOG , 11044\n",
        "BCN-BUE , 10964\n",
        "BCN-TCI , 10747\n",
        "PMI-MAD , 10298\n",
        "MAD-IST , 10179\n",
        "BCN-BER , 10136\n",
        "MAD-MEX , 10100\n",
        "MAD-SDQ , 10074\n",
        "MAD-HAV , 9575\n",
        "MAD-BUH , 9287\n",
        "MAD-SAO , 9135\n",
        "TCI-MAD , 9073\n",
        "MAD-GYE , 9057\n",
        "MAD-UIO , 8992\n",
        "MAD-MUC , 8934\n",
        "MAD-PMI , 8824\n",
        "MAD-FRA , 8676\n",
        "LPA-MAD , 8562\n",
        "MAD-ACE , 8445\n",
        "PMI-BCN , 8184\n",
        "MAD-GVA , 8177\n",
        "BCN-LIS , 8151\n",
        "BCN-LIM , 8053\n"
       ]
      }
     ],
     "prompt_number": 6
    },
    {
     "cell_type": "code",
     "collapsed": false,
     "input": [],
     "language": "python",
     "metadata": {},
     "outputs": []
    }
   ],
   "metadata": {}
  }
 ]
}