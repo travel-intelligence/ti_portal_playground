{
 "metadata": {
  "name": ""
 },
 "nbformat": 3,
 "nbformat_minor": 0,
 "worksheets": [
  {
   "cells": [
    {
     "cell_type": "code",
     "collapsed": false,
     "input": [
      "import json;"
     ],
     "language": "python",
     "metadata": {},
     "outputs": [],
     "prompt_number": 1
    },
    {
     "cell_type": "code",
     "collapsed": false,
     "input": [
      "myperfjson = {\"search_by_search_period\":[{\"id\":\"ES_m_2013-12_*-*\",\"market\":\"ES\",\"ptype\":\"m\",\"period\":\"2013-12\",\"onds\":[{\"origin\":\"*\",\"destination\":\"*\"}],\"nb_req\":2486502,\"top_onds\":[[\"MAD-NYC\",45426,44735],[\"MAD-LON\",32772,36962],[\"MAD-PAR\",31422,28431],[\"BCN-NYC\",23396,19974],[\"MAD-LIM\",22431,15967],[\"MAD-ROM\",21847,19966],[\"BCN-LON\",20107,21889],[\"BCN-MAD\",18762,25028],[\"BCN-PAR\",18285,19923],[\"MAD-BCN\",18282,18940],[\"MAD-BUE\",17081,17481],[\"MAD-TCI\",15918,20030],[\"MAD-BKK\",15470,12605],[\"MAD-AMS\",13235,15079],[\"MAD-MIA\",12883,12638],[\"BCN-ROM\",12122,11710],[\"MAD-BER\",11457,12016],[\"MAD-BRU\",11412,9735],[\"MAD-LPA\",10742,20857],[\"MAD-RAK\",10701,9326],[\"MAD-LIS\",10467,10059],[\"MAD-SCL\",9774,7281],[\"BCN-BUE\",9738,8274],[\"BCN-BKK\",9463,6655],[\"BCN-AMS\",9060,9884],[\"MAD-MIL\",9036,13365],[\"AGP-LON\",8773,7269],[\"MAD-MEX\",8721,9854],[\"MAD-PRG\",8521,10030],[\"MAD-IST\",8469,10568],[\"MAD-HAV\",8454,6238],[\"MAD-BOG\",8435,7222],[\"BCN-BER\",8301,7887],[\"MAD-SAO\",8295,5679],[\"BCN-TCI\",8245,12463],[\"MAD-SDQ\",8079,7858],[\"MAD-UIO\",7731,7091],[\"MAD-BUH\",7453,10348],[\"MAD-GYE\",7066,5907],[\"BCN-LIM\",6972,5944],[\"BCN-LIS\",6863,5891],[\"MAD-LAX\",6803,5491],[\"MAD-ACE\",6639,12072],[\"MAD-MUC\",6595,6589],[\"LPA-MAD\",6464,6423],[\"PMI-MAD\",6443,8722],[\"MAD-FRA\",6437,6162],[\"BCN-IST\",6359,6863],[\"MAD-PMI\",6329,7323],[\"TCI-MAD\",5937,6933]],\"top_destinations\":[[\"MAD\",142829,187708],[\"LON\",115239,121913],[\"NYC\",104343,95713],[\"PAR\",94770,95406],[\"BCN\",94504,129752],[\"ROM\",60362,56594],[\"TCI\",49638,65097],[\"BUE\",45029,35730],[\"LIM\",40472,29031],[\"AMS\",38227,40874],[\"BKK\",37872,48243],[\"BER\",34956,38663],[\"MIA\",32743,33873],[\"LPA\",32664,59007],[\"LIS\",32562,30425],[\"PMI\",30325,46259],[\"BRU\",29455,26457],[\"IST\",29202,38286],[\"AGP\",25060,30940],[\"MIL\",24627,35344],[\"RAK\",24535,24158],[\"PRG\",23722,30068],[\"MEX\",21681,19587],[\"SVQ\",21672,29604],[\"SAO\",21346,15752],[\"SCL\",21303,14972],[\"BOG\",20084,15447],[\"LAX\",19417,18186],[\"ACE\",19374,35117],[\"MUC\",19287,20955],[\"HAV\",18815,14133],[\"FRA\",17802,19694],[\"VLC\",17610,20342],[\"BIO\",17526,21419],[\"DXB\",16689,17527],[\"SDQ\",16570,14154],[\"VIE\",16032,18963],[\"RIO\",14540,11043],[\"GYE\",14452,12516],[\"OPO\",14299,14905],[\"VCE\",14262,18807],[\"BUH\",14227,18287],[\"TYO\",14114,10508],[\"UIO\",13989,12020],[\"DUB\",13032,18366],[\"FUE\",12911,28598],[\"GVA\",12721,16139],[\"IBZ\",12717,23316],[\"CUN\",12625,11634],[\"MOW\",12611,12712]],\"advance_purchase\":[356909,311928,259554,195997,150085,111008,94343,84628,76143,69181,58549,51997,45566,35915,35740,44470,42642,43967,40499,28344,20635,17665,15263,15246,16332,19111,22807,21415,20724,19441,160380]}]}\n",
      "                                                                                                                                                                                                                                                                                                                                                                                                                                                                                                                                                                                                                                                                                                                                                                                                                                                                                                                                                                                                                                                                                                                                                                                                                                                                                                                                                                                                                                                                                                                                                                                                                                                                                                                                                                                                                                                                                                                                                                                                                                                                                                                                                                                                                                                                                                                                                                                                                                                                                                                                                                                                                                                                                                                                                                                                                                                                                                                                                                                                                                                                                                                                                                                                                                                                                                                                                                                                                                                                                                                                                                                                                                                                                                                                                                                                                                                                                                                                                                                                                                                                                                                                                                                                                                                                                                                                                                                                                                                                                                                                                                                                                                                                                                                                                                                                                                                                                                                                                                                                                                                                                                                                                "
     ],
     "language": "python",
     "metadata": {},
     "outputs": [],
     "prompt_number": 3
    },
    {
     "cell_type": "code",
     "collapsed": false,
     "input": [
      "onds = myperfjson['search_by_search_period'][0]['top_onds']"
     ],
     "language": "python",
     "metadata": {},
     "outputs": [],
     "prompt_number": 4
    },
    {
     "cell_type": "code",
     "collapsed": false,
     "input": [
      "print \"O&D, Searches for Year N, Year Searches for N-1\"\n",
      "for ond in onds:\n",
      "    ondLabel = ond[0]\n",
      "    nbSearchesYN = ond[1]\n",
      "    nbSearchesYNm1 = ond[2]\n",
      "    print ondLabel, \",\", nbSearchesYN, \",\", nbSearchesYNm1\n"
     ],
     "language": "python",
     "metadata": {},
     "outputs": [
      {
       "output_type": "stream",
       "stream": "stdout",
       "text": [
        "O&D, Searches for Year N, Year Searches for N-1\n",
        "MAD-NYC , 45426 , 44735\n",
        "MAD-LON , 32772 , 36962\n",
        "MAD-PAR , 31422 , 28431\n",
        "BCN-NYC , 23396 , 19974\n",
        "MAD-LIM , 22431 , 15967\n",
        "MAD-ROM , 21847 , 19966\n",
        "BCN-LON , 20107 , 21889\n",
        "BCN-MAD , 18762 , 25028\n",
        "BCN-PAR , 18285 , 19923\n",
        "MAD-BCN , 18282 , 18940\n",
        "MAD-BUE , 17081 , 17481\n",
        "MAD-TCI , 15918 , 20030\n",
        "MAD-BKK , 15470 , 12605\n",
        "MAD-AMS , 13235 , 15079\n",
        "MAD-MIA , 12883 , 12638\n",
        "BCN-ROM , 12122 , 11710\n",
        "MAD-BER , 11457 , 12016\n",
        "MAD-BRU , 11412 , 9735\n",
        "MAD-LPA , 10742 , 20857\n",
        "MAD-RAK , 10701 , 9326\n",
        "MAD-LIS , 10467 , 10059\n",
        "MAD-SCL , 9774 , 7281\n",
        "BCN-BUE , 9738 , 8274\n",
        "BCN-BKK , 9463 , 6655\n",
        "BCN-AMS , 9060 , 9884\n",
        "MAD-MIL , 9036 , 13365\n",
        "AGP-LON , 8773 , 7269\n",
        "MAD-MEX , 8721 , 9854\n",
        "MAD-PRG , 8521 , 10030\n",
        "MAD-IST , 8469 , 10568\n",
        "MAD-HAV , 8454 , 6238\n",
        "MAD-BOG , 8435 , 7222\n",
        "BCN-BER , 8301 , 7887\n",
        "MAD-SAO , 8295 , 5679\n",
        "BCN-TCI , 8245 , 12463\n",
        "MAD-SDQ , 8079 , 7858\n",
        "MAD-UIO , 7731 , 7091\n",
        "MAD-BUH , 7453 , 10348\n",
        "MAD-GYE , 7066 , 5907\n",
        "BCN-LIM , 6972 , 5944\n",
        "BCN-LIS , 6863 , 5891\n",
        "MAD-LAX , 6803 , 5491\n",
        "MAD-ACE , 6639 , 12072\n",
        "MAD-MUC , 6595 , 6589\n",
        "LPA-MAD , 6464 , 6423\n",
        "PMI-MAD , 6443 , 8722\n",
        "MAD-FRA , 6437 , 6162\n",
        "BCN-IST , 6359 , 6863\n",
        "MAD-PMI , 6329 , 7323\n",
        "TCI-MAD , 5937 , 6933\n"
       ]
      }
     ],
     "prompt_number": 8
    },
    {
     "cell_type": "code",
     "collapsed": false,
     "input": [],
     "language": "python",
     "metadata": {},
     "outputs": []
    }
   ],
   "metadata": {}
  }
 ]
}